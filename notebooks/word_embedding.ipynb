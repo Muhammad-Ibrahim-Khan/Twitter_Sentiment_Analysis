{
 "cells": [
  {
   "cell_type": "markdown",
   "id": "ce086742",
   "metadata": {},
   "source": [
    "# Twitter Sentiment Analysis\n",
    "\n",
    "The dataset used is \"Sentiment140\" which can be accessed at the following link\"\n",
    "> https://www.kaggle.com/kazanova/sentiment140\n",
    "\n",
    "The architecture used for sentiment analysis is \"Word Embeddings\" whose guide can be viewed at the following link:\n",
    ">https://www.tensorflow.org/text/guide/word_embeddings"
   ]
  },
  {
   "cell_type": "markdown",
   "id": "464d7c20",
   "metadata": {},
   "source": [
    "## Creating classes\n",
    "\n"
   ]
  },
  {
   "cell_type": "code",
   "execution_count": 1,
   "id": "db0a909f",
   "metadata": {},
   "outputs": [],
   "source": [
    "class Sentiment:\n",
    "    Negative = \"Negative\"\n",
    "    Neutral = \"Neutral\"\n",
    "    Positive = \"Positive\"\n",
    "\n",
    "\n",
    "class Tweet:\n",
    "    def __init__(self, tweet, score):\n",
    "        self.Tweet = tweet\n",
    "        self.Score = score\n",
    "        self.Sentiment = get_sentiment(score)\n",
    "        \n",
    "    def get_sentiment(score):\n",
    "        if score == 0 or score == 1:\n",
    "            return Sentiment.Negative\n",
    "        elif score == 2 or score == 3:\n",
    "            return Sentiment.Neutral\n",
    "        else:\n",
    "            return Sentiment.Positive\n",
    "    \n",
    "class TweetMethods:\n",
    "    def __init__(self, Tweet):\n",
    "        self.tweet = tweet\n",
    "    \n",
    "    def get_tweet(self):\n",
    "        return [x.tweet for x in self.tweet]\n",
    "    \n",
    "    def get_sentiment(self):\n",
    "        return [x.sentiment for x in self.tweet]\n",
    "        "
   ]
  }
 ],
 "metadata": {
  "kernelspec": {
   "display_name": "sa_env",
   "language": "python",
   "name": "sa_env"
  },
  "language_info": {
   "codemirror_mode": {
    "name": "ipython",
    "version": 3
   },
   "file_extension": ".py",
   "mimetype": "text/x-python",
   "name": "python",
   "nbconvert_exporter": "python",
   "pygments_lexer": "ipython3",
   "version": "3.8.10"
  }
 },
 "nbformat": 4,
 "nbformat_minor": 5
}
